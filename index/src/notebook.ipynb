{
 "cells": [
  {
   "cell_type": "markdown",
   "id": "32480936037dba5a",
   "metadata": {},
   "source": [
    "1. Initialize the libraries"
   ]
  },
  {
   "cell_type": "code",
   "id": "initial_id",
   "metadata": {
    "collapsed": true,
    "ExecuteTime": {
     "end_time": "2025-09-23T10:28:36.094788Z",
     "start_time": "2025-09-23T10:28:29.630709Z"
    }
   },
   "source": [
    "import os\n",
    "from dotenv import load_dotenv\n",
    "from defeed_index import Registry, ActivityRepository, ActivityRepositoryConfig\n",
    "\n",
    "load_dotenv()\n",
    "\n",
    "repository = ActivityRepository(ActivityRepositoryConfig(\n",
    "    host=os.getenv('DB_HOST'),\n",
    "    port=int(os.getenv('DB_PORT')),\n",
    "    database=os.getenv('DB_NAME'),\n",
    "    user=os.getenv('DB_USER'),\n",
    "    password=os.getenv('DB_PASSWORD')\n",
    "))\n",
    "\n",
    "registry = Registry(repository)"
   ],
   "outputs": [],
   "execution_count": 41
  },
  {
   "cell_type": "markdown",
   "id": "77198b14a291183c",
   "metadata": {},
   "source": [
    "2. Seed the registry with latest activities"
   ]
  },
  {
   "cell_type": "code",
   "id": "ee6c68e6b386530b",
   "metadata": {
    "ExecuteTime": {
     "end_time": "2025-09-23T10:29:22.039790Z",
     "start_time": "2025-09-23T10:28:38.647670Z"
    }
   },
   "source": [
    "registry.seed()\n",
    "registry.topic_model.get_topic_info()"
   ],
   "outputs": [
    {
     "name": "stderr",
     "output_type": "stream",
     "text": [
      "Batches: 100%|██████████| 71/71 [00:09<00:00,  7.27it/s]\n",
      "2025-09-23 12:29:14,058 - BERTopic - Dimensionality - Fitting the dimensionality reduction algorithm\n",
      "2025-09-23 12:29:20,830 - BERTopic - Dimensionality - Completed ✓\n",
      "2025-09-23 12:29:20,831 - BERTopic - Cluster - Start clustering the reduced embeddings\n",
      "2025-09-23 12:29:20,907 - BERTopic - Cluster - Completed ✓\n",
      "2025-09-23 12:29:20,907 - BERTopic - Representation - Extracting topics using c-TF-IDF for topic reduction.\n",
      "2025-09-23 12:29:21,015 - BERTopic - Representation - Completed ✓\n",
      "2025-09-23 12:29:21,016 - BERTopic - Topic reduction - Reducing number of topics\n",
      "2025-09-23 12:29:21,025 - BERTopic - Representation - Fine-tuning topics using representation models.\n",
      "2025-09-23 12:29:22,000 - BERTopic - Representation - Completed ✓\n",
      "2025-09-23 12:29:22,001 - BERTopic - Topic reduction - Reduced number of topics from 3 to 3\n"
     ]
    },
    {
     "data": {
      "text/plain": [
       "   Topic  Count                                               Name  \\\n",
       "0     -1   1195  -1_reinforcement learning_optimization_adaptiv...   \n",
       "1      0    621  0_3d gaussian_gaussian splatting_multimodal_sp...   \n",
       "2      1    450                           1_linux_os_ubuntu_nvidia   \n",
       "\n",
       "                                      Representation  \\\n",
       "0  [reinforcement learning, optimization, adaptiv...   \n",
       "1  [3d gaussian, gaussian splatting, multimodal, ...   \n",
       "2  [linux, os, ubuntu, nvidia, windows, macos, cr...   \n",
       "\n",
       "                                 Representative_Docs  \n",
       "0  [Bayesian Ego-graph inference for Networked Mu...  \n",
       "1  [MedGS: Gaussian Splatting for Multi-Modal 3D ...  \n",
       "2  [End of 10 event success - Both.org: End of 10...  "
      ],
      "text/html": [
       "<div>\n",
       "<style scoped>\n",
       "    .dataframe tbody tr th:only-of-type {\n",
       "        vertical-align: middle;\n",
       "    }\n",
       "\n",
       "    .dataframe tbody tr th {\n",
       "        vertical-align: top;\n",
       "    }\n",
       "\n",
       "    .dataframe thead th {\n",
       "        text-align: right;\n",
       "    }\n",
       "</style>\n",
       "<table border=\"1\" class=\"dataframe\">\n",
       "  <thead>\n",
       "    <tr style=\"text-align: right;\">\n",
       "      <th></th>\n",
       "      <th>Topic</th>\n",
       "      <th>Count</th>\n",
       "      <th>Name</th>\n",
       "      <th>Representation</th>\n",
       "      <th>Representative_Docs</th>\n",
       "    </tr>\n",
       "  </thead>\n",
       "  <tbody>\n",
       "    <tr>\n",
       "      <th>0</th>\n",
       "      <td>-1</td>\n",
       "      <td>1195</td>\n",
       "      <td>-1_reinforcement learning_optimization_adaptiv...</td>\n",
       "      <td>[reinforcement learning, optimization, adaptiv...</td>\n",
       "      <td>[Bayesian Ego-graph inference for Networked Mu...</td>\n",
       "    </tr>\n",
       "    <tr>\n",
       "      <th>1</th>\n",
       "      <td>0</td>\n",
       "      <td>621</td>\n",
       "      <td>0_3d gaussian_gaussian splatting_multimodal_sp...</td>\n",
       "      <td>[3d gaussian, gaussian splatting, multimodal, ...</td>\n",
       "      <td>[MedGS: Gaussian Splatting for Multi-Modal 3D ...</td>\n",
       "    </tr>\n",
       "    <tr>\n",
       "      <th>2</th>\n",
       "      <td>1</td>\n",
       "      <td>450</td>\n",
       "      <td>1_linux_os_ubuntu_nvidia</td>\n",
       "      <td>[linux, os, ubuntu, nvidia, windows, macos, cr...</td>\n",
       "      <td>[End of 10 event success - Both.org: End of 10...</td>\n",
       "    </tr>\n",
       "  </tbody>\n",
       "</table>\n",
       "</div>"
      ]
     },
     "execution_count": 42,
     "metadata": {},
     "output_type": "execute_result"
    }
   ],
   "execution_count": 42
  },
  {
   "metadata": {
    "ExecuteTime": {
     "end_time": "2025-09-23T10:32:48.827223Z",
     "start_time": "2025-09-23T10:32:41.156563Z"
    }
   },
   "cell_type": "code",
   "source": [
    "\n",
    "embeddings = registry.embedding_model.encode(registry.documents, show_progress_bar=True)"
   ],
   "id": "aeed2b6551b69767",
   "outputs": [
    {
     "name": "stderr",
     "output_type": "stream",
     "text": [
      "Batches: 100%|██████████| 71/71 [00:07<00:00,  9.33it/s]\n"
     ]
    }
   ],
   "execution_count": 47
  },
  {
   "metadata": {
    "ExecuteTime": {
     "end_time": "2025-09-23T10:34:15.300272Z",
     "start_time": "2025-09-23T10:34:06.946959Z"
    }
   },
   "cell_type": "code",
   "source": [
    "topics, probabilities = registry.topic_model.fit_transform(registry.documents, embeddings)\n",
    "set(topics)"
   ],
   "id": "f20aaec01445a400",
   "outputs": [
    {
     "name": "stderr",
     "output_type": "stream",
     "text": [
      "2025-09-23 12:34:06,974 - BERTopic - Dimensionality - Fitting the dimensionality reduction algorithm\n",
      "2025-09-23 12:34:13,668 - BERTopic - Dimensionality - Completed ✓\n",
      "2025-09-23 12:34:13,669 - BERTopic - Cluster - Start clustering the reduced embeddings\n",
      "2025-09-23 12:34:13,720 - BERTopic - Cluster - Completed ✓\n",
      "2025-09-23 12:34:13,721 - BERTopic - Representation - Extracting topics using c-TF-IDF for topic reduction.\n",
      "2025-09-23 12:34:13,795 - BERTopic - Representation - Completed ✓\n",
      "2025-09-23 12:34:13,796 - BERTopic - Topic reduction - Reducing number of topics\n",
      "2025-09-23 12:34:13,800 - BERTopic - Representation - Fine-tuning topics using representation models.\n",
      "2025-09-23 12:34:15,269 - BERTopic - Representation - Completed ✓\n",
      "2025-09-23 12:34:15,270 - BERTopic - Topic reduction - Reduced number of topics from 3 to 3\n"
     ]
    },
    {
     "data": {
      "text/plain": [
       "{-1, 0, 1}"
      ]
     },
     "execution_count": 52,
     "metadata": {},
     "output_type": "execute_result"
    }
   ],
   "execution_count": 52
  },
  {
   "metadata": {
    "ExecuteTime": {
     "end_time": "2025-09-23T10:37:45.581018Z",
     "start_time": "2025-09-23T10:37:45.563189Z"
    }
   },
   "cell_type": "code",
   "source": "registry.topic_model.get_topic_info()",
   "id": "d60a56059cae0e56",
   "outputs": [
    {
     "data": {
      "text/plain": [
       "   Topic  Count                                               Name  \\\n",
       "0     -1   1195  -1_reinforcement learning_optimization_adaptiv...   \n",
       "1      0    621  0_3d gaussian_gaussian splatting_multimodal_sp...   \n",
       "2      1    450                           1_linux_os_ubuntu_nvidia   \n",
       "\n",
       "                                      Representation  \\\n",
       "0  [reinforcement learning, optimization, adaptiv...   \n",
       "1  [3d gaussian, gaussian splatting, multimodal, ...   \n",
       "2  [linux, os, ubuntu, nvidia, windows, macos, cr...   \n",
       "\n",
       "                                 Representative_Docs  \n",
       "0  [Bayesian Ego-graph inference for Networked Mu...  \n",
       "1  [MedGS: Gaussian Splatting for Multi-Modal 3D ...  \n",
       "2  [End of 10 event success - Both.org: End of 10...  "
      ],
      "text/html": [
       "<div>\n",
       "<style scoped>\n",
       "    .dataframe tbody tr th:only-of-type {\n",
       "        vertical-align: middle;\n",
       "    }\n",
       "\n",
       "    .dataframe tbody tr th {\n",
       "        vertical-align: top;\n",
       "    }\n",
       "\n",
       "    .dataframe thead th {\n",
       "        text-align: right;\n",
       "    }\n",
       "</style>\n",
       "<table border=\"1\" class=\"dataframe\">\n",
       "  <thead>\n",
       "    <tr style=\"text-align: right;\">\n",
       "      <th></th>\n",
       "      <th>Topic</th>\n",
       "      <th>Count</th>\n",
       "      <th>Name</th>\n",
       "      <th>Representation</th>\n",
       "      <th>Representative_Docs</th>\n",
       "    </tr>\n",
       "  </thead>\n",
       "  <tbody>\n",
       "    <tr>\n",
       "      <th>0</th>\n",
       "      <td>-1</td>\n",
       "      <td>1195</td>\n",
       "      <td>-1_reinforcement learning_optimization_adaptiv...</td>\n",
       "      <td>[reinforcement learning, optimization, adaptiv...</td>\n",
       "      <td>[Bayesian Ego-graph inference for Networked Mu...</td>\n",
       "    </tr>\n",
       "    <tr>\n",
       "      <th>1</th>\n",
       "      <td>0</td>\n",
       "      <td>621</td>\n",
       "      <td>0_3d gaussian_gaussian splatting_multimodal_sp...</td>\n",
       "      <td>[3d gaussian, gaussian splatting, multimodal, ...</td>\n",
       "      <td>[MedGS: Gaussian Splatting for Multi-Modal 3D ...</td>\n",
       "    </tr>\n",
       "    <tr>\n",
       "      <th>2</th>\n",
       "      <td>1</td>\n",
       "      <td>450</td>\n",
       "      <td>1_linux_os_ubuntu_nvidia</td>\n",
       "      <td>[linux, os, ubuntu, nvidia, windows, macos, cr...</td>\n",
       "      <td>[End of 10 event success - Both.org: End of 10...</td>\n",
       "    </tr>\n",
       "  </tbody>\n",
       "</table>\n",
       "</div>"
      ]
     },
     "execution_count": 53,
     "metadata": {},
     "output_type": "execute_result"
    }
   ],
   "execution_count": 53
  },
  {
   "cell_type": "markdown",
   "id": "1eb651f0e1989669",
   "metadata": {},
   "source": [
    "3. List topics"
   ]
  },
  {
   "cell_type": "code",
   "id": "cce567ce4e63b4bb",
   "metadata": {
    "ExecuteTime": {
     "end_time": "2025-09-23T09:53:55.885054Z",
     "start_time": "2025-09-23T09:53:34.696126Z"
    }
   },
   "source": [
    "import matplotlib.pyplot as plt\n",
    "import datamapplot  # Required for BERTopic visualization\n",
    "\n",
    "# First, let's check how many topics we actually have\n",
    "print(f\"Number of topics found: {len(set(registry.topics))}\")\n",
    "print(f\"Topic distribution: {set(registry.topics)}\")\n",
    "\n",
    "# Get the actual number of topics (excluding -1 which is noise)\n",
    "actual_topics = [t for t in set(registry.topics) if t != -1]\n",
    "print(f\"Non-noise topics: {len(actual_topics)}\")\n",
    "\n",
    "# Use the actual number of topics for visualization\n",
    "if len(actual_topics) > 0:\n",
    "    fig = registry.topic_model.visualize_document_datamap(\n",
    "        registry.documents,\n",
    "        topics=actual_topics,  # Use actual topics instead of range(20)\n",
    "        width=1200,\n",
    "        height=800\n",
    "    )\n",
    "    plt.savefig(\"datamapplot.png\", dpi=300, bbox_inches='tight')\n",
    "    plt.show()\n",
    "else:\n",
    "    print(\"No valid topics found for visualization\")"
   ],
   "outputs": [
    {
     "name": "stderr",
     "output_type": "stream",
     "text": [
      "huggingface/tokenizers: The current process just got forked, after parallelism has already been used. Disabling parallelism to avoid deadlocks...\n",
      "To disable this warning, you can either:\n",
      "\t- Avoid using `tokenizers` before the fork if possible\n",
      "\t- Explicitly set the environment variable TOKENIZERS_PARALLELISM=(true | false)\n"
     ]
    },
    {
     "name": "stdout",
     "output_type": "stream",
     "text": [
      "Number of topics found: 5\n",
      "Topic distribution: {0, 1, 2, 3, -1}\n",
      "Non-noise topics: 4\n"
     ]
    },
    {
     "ename": "NameError",
     "evalue": "name 'datamapplot' is not defined",
     "output_type": "error",
     "traceback": [
      "\u001B[31m---------------------------------------------------------------------------\u001B[39m",
      "\u001B[31mNameError\u001B[39m                                 Traceback (most recent call last)",
      "\u001B[36mCell\u001B[39m\u001B[36m \u001B[39m\u001B[32mIn[40]\u001B[39m\u001B[32m, line 14\u001B[39m\n\u001B[32m     12\u001B[39m \u001B[38;5;66;03m# Use the actual number of topics for visualization\u001B[39;00m\n\u001B[32m     13\u001B[39m \u001B[38;5;28;01mif\u001B[39;00m \u001B[38;5;28mlen\u001B[39m(actual_topics) > \u001B[32m0\u001B[39m:\n\u001B[32m---> \u001B[39m\u001B[32m14\u001B[39m     fig = \u001B[43mregistry\u001B[49m\u001B[43m.\u001B[49m\u001B[43mtopic_model\u001B[49m\u001B[43m.\u001B[49m\u001B[43mvisualize_document_datamap\u001B[49m\u001B[43m(\u001B[49m\n\u001B[32m     15\u001B[39m \u001B[43m        \u001B[49m\u001B[43mregistry\u001B[49m\u001B[43m.\u001B[49m\u001B[43mdocuments\u001B[49m\u001B[43m,\u001B[49m\n\u001B[32m     16\u001B[39m \u001B[43m        \u001B[49m\u001B[43mtopics\u001B[49m\u001B[43m=\u001B[49m\u001B[43mactual_topics\u001B[49m\u001B[43m,\u001B[49m\u001B[43m  \u001B[49m\u001B[38;5;66;43;03m# Use actual topics instead of range(20)\u001B[39;49;00m\n\u001B[32m     17\u001B[39m \u001B[43m        \u001B[49m\u001B[43mwidth\u001B[49m\u001B[43m=\u001B[49m\u001B[32;43m1200\u001B[39;49m\u001B[43m,\u001B[49m\n\u001B[32m     18\u001B[39m \u001B[43m        \u001B[49m\u001B[43mheight\u001B[49m\u001B[43m=\u001B[49m\u001B[32;43m800\u001B[39;49m\n\u001B[32m     19\u001B[39m \u001B[43m    \u001B[49m\u001B[43m)\u001B[49m\n\u001B[32m     20\u001B[39m     plt.savefig(\u001B[33m\"\u001B[39m\u001B[33mdatamapplot.png\u001B[39m\u001B[33m\"\u001B[39m, dpi=\u001B[32m300\u001B[39m, bbox_inches=\u001B[33m'\u001B[39m\u001B[33mtight\u001B[39m\u001B[33m'\u001B[39m)\n\u001B[32m     21\u001B[39m     plt.show()\n",
      "\u001B[36mFile \u001B[39m\u001B[32m~/Projects/defeed-api/index/.venv/lib/python3.11/site-packages/bertopic/_bertopic.py:2645\u001B[39m, in \u001B[36mBERTopic.visualize_document_datamap\u001B[39m\u001B[34m(self, docs, topics, embeddings, reduced_embeddings, custom_labels, title, sub_title, width, height, interactive, enable_search, topic_prefix, datamap_kwds, int_datamap_kwds)\u001B[39m\n\u001B[32m   2569\u001B[39m \u001B[38;5;250m\u001B[39m\u001B[33;03m\"\"\"Visualize documents and their topics in 2D as a static plot for publication using\u001B[39;00m\n\u001B[32m   2570\u001B[39m \u001B[33;03mDataMapPlot. This works best if there are between 5 and 60 topics. It is therefore best\u001B[39;00m\n\u001B[32m   2571\u001B[39m \u001B[33;03mto use a sufficiently large `min_topic_size` or set `nr_topics` when building the model.\u001B[39;00m\n\u001B[32m   (...)\u001B[39m\u001B[32m   2642\u001B[39m \u001B[33;03m```\u001B[39;00m\n\u001B[32m   2643\u001B[39m \u001B[33;03m\"\"\"\u001B[39;00m\n\u001B[32m   2644\u001B[39m check_is_fitted(\u001B[38;5;28mself\u001B[39m)\n\u001B[32m-> \u001B[39m\u001B[32m2645\u001B[39m \u001B[38;5;28;01mreturn\u001B[39;00m \u001B[43mplotting\u001B[49m\u001B[43m.\u001B[49m\u001B[43mvisualize_document_datamap\u001B[49m\u001B[43m(\u001B[49m\n\u001B[32m   2646\u001B[39m \u001B[43m    \u001B[49m\u001B[38;5;28;43mself\u001B[39;49m\u001B[43m,\u001B[49m\n\u001B[32m   2647\u001B[39m \u001B[43m    \u001B[49m\u001B[43mdocs\u001B[49m\u001B[43m,\u001B[49m\n\u001B[32m   2648\u001B[39m \u001B[43m    \u001B[49m\u001B[43mtopics\u001B[49m\u001B[43m,\u001B[49m\n\u001B[32m   2649\u001B[39m \u001B[43m    \u001B[49m\u001B[43membeddings\u001B[49m\u001B[43m,\u001B[49m\n\u001B[32m   2650\u001B[39m \u001B[43m    \u001B[49m\u001B[43mreduced_embeddings\u001B[49m\u001B[43m,\u001B[49m\n\u001B[32m   2651\u001B[39m \u001B[43m    \u001B[49m\u001B[43mcustom_labels\u001B[49m\u001B[43m,\u001B[49m\n\u001B[32m   2652\u001B[39m \u001B[43m    \u001B[49m\u001B[43mtitle\u001B[49m\u001B[43m,\u001B[49m\n\u001B[32m   2653\u001B[39m \u001B[43m    \u001B[49m\u001B[43msub_title\u001B[49m\u001B[43m,\u001B[49m\n\u001B[32m   2654\u001B[39m \u001B[43m    \u001B[49m\u001B[43mwidth\u001B[49m\u001B[43m,\u001B[49m\n\u001B[32m   2655\u001B[39m \u001B[43m    \u001B[49m\u001B[43mheight\u001B[49m\u001B[43m,\u001B[49m\n\u001B[32m   2656\u001B[39m \u001B[43m    \u001B[49m\u001B[43minteractive\u001B[49m\u001B[43m,\u001B[49m\n\u001B[32m   2657\u001B[39m \u001B[43m    \u001B[49m\u001B[43menable_search\u001B[49m\u001B[43m,\u001B[49m\n\u001B[32m   2658\u001B[39m \u001B[43m    \u001B[49m\u001B[43mtopic_prefix\u001B[49m\u001B[43m,\u001B[49m\n\u001B[32m   2659\u001B[39m \u001B[43m    \u001B[49m\u001B[43mdatamap_kwds\u001B[49m\u001B[43m,\u001B[49m\n\u001B[32m   2660\u001B[39m \u001B[43m    \u001B[49m\u001B[43mint_datamap_kwds\u001B[49m\u001B[43m,\u001B[49m\n\u001B[32m   2661\u001B[39m \u001B[43m\u001B[49m\u001B[43m)\u001B[49m\n",
      "\u001B[36mFile \u001B[39m\u001B[32m~/Projects/defeed-api/index/.venv/lib/python3.11/site-packages/bertopic/plotting/_datamap.py:178\u001B[39m, in \u001B[36mvisualize_document_datamap\u001B[39m\u001B[34m(topic_model, docs, topics, embeddings, reduced_embeddings, custom_labels, title, sub_title, width, height, interactive, enable_search, topic_prefix, datamap_kwds, int_datamap_kwds)\u001B[39m\n\u001B[32m    168\u001B[39m     figure = datamapplot.create_interactive_plot(\n\u001B[32m    169\u001B[39m         embeddings_2d,\n\u001B[32m    170\u001B[39m         named_topic_per_doc,\n\u001B[32m   (...)\u001B[39m\u001B[32m    175\u001B[39m         **int_datamap_kwds,\n\u001B[32m    176\u001B[39m     )\n\u001B[32m    177\u001B[39m \u001B[38;5;28;01melse\u001B[39;00m:\n\u001B[32m--> \u001B[39m\u001B[32m178\u001B[39m     figure, _ = \u001B[43mdatamapplot\u001B[49m.create_plot(\n\u001B[32m    179\u001B[39m         embeddings_2d,\n\u001B[32m    180\u001B[39m         named_topic_per_doc,\n\u001B[32m    181\u001B[39m         figsize=(width / \u001B[32m100\u001B[39m, height / \u001B[32m100\u001B[39m),\n\u001B[32m    182\u001B[39m         dpi=\u001B[32m100\u001B[39m,\n\u001B[32m    183\u001B[39m         title=title,\n\u001B[32m    184\u001B[39m         sub_title=sub_title,\n\u001B[32m    185\u001B[39m         **datamap_kwds,\n\u001B[32m    186\u001B[39m     )\n\u001B[32m    188\u001B[39m \u001B[38;5;28;01mreturn\u001B[39;00m figure\n",
      "\u001B[31mNameError\u001B[39m: name 'datamapplot' is not defined"
     ]
    }
   ],
   "execution_count": 40
  }
 ],
 "metadata": {
  "kernelspec": {
   "display_name": "Python 3",
   "language": "python",
   "name": "python3"
  },
  "language_info": {
   "codemirror_mode": {
    "name": "ipython",
    "version": 2
   },
   "file_extension": ".py",
   "mimetype": "text/x-python",
   "name": "python",
   "nbconvert_exporter": "python",
   "pygments_lexer": "ipython2",
   "version": "3.12.10"
  }
 },
 "nbformat": 4,
 "nbformat_minor": 5
}
